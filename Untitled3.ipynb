{
 "cells": [
  {
   "cell_type": "code",
   "execution_count": 1,
   "id": "6a5ca285",
   "metadata": {},
   "outputs": [],
   "source": [
    "from operator import attrgetter"
   ]
  },
  {
   "cell_type": "code",
   "execution_count": 2,
   "id": "514b32c7",
   "metadata": {},
   "outputs": [],
   "source": [
    "class company(object):\n",
    "    def __init__(self,name,plan,done):\n",
    "        self.name = name\n",
    "        self.plan = plan\n",
    "        self.done = done\n",
    "        self.donepercent = self.donepercent()\n",
    "    \n",
    "    def donepercent(self):\n",
    "        return (self.done/self.plan)*100\n",
    "    \n",
    "    def ShowCompany(self):\n",
    "        print(\"Название Компании:\", self.name,\"; План:\", self.plan,\"; Процент выполнения:\", self.donepercent,\"%\")"
   ]
  },
  {
   "cell_type": "code",
   "execution_count": 3,
   "id": "1f9cb142",
   "metadata": {},
   "outputs": [],
   "source": [
    "def get_company_list(companies):\n",
    "    if isinstance(companies,list):\n",
    "        return sorted(companies, key=lambda x: x.plan,reverse=True)\n",
    "    else:\n",
    "        raise ValueError"
   ]
  },
  {
   "cell_type": "code",
   "execution_count": 4,
   "id": "816195c3",
   "metadata": {},
   "outputs": [],
   "source": [
    "companies =[\n",
    "            company(\"Аркадия\", 13000,7894),\n",
    "            company(\"Хомра\", 3333,2222),\n",
    "            company(\"Рашка\",700000,1),\n",
    "          ]\n"
   ]
  },
  {
   "cell_type": "code",
   "execution_count": 5,
   "id": "7092ad07",
   "metadata": {},
   "outputs": [
    {
     "name": "stdout",
     "output_type": "stream",
     "text": [
      "Название Компании: Рашка ; План: 700000 ; Процент выполнения: 0.00014285714285714287 %\n",
      "Название Компании: Аркадия ; План: 13000 ; Процент выполнения: 60.723076923076924 %\n",
      "Название Компании: Хомра ; План: 3333 ; Процент выполнения: 66.66666666666666 %\n"
     ]
    }
   ],
   "source": [
    "companylist = get_company_list(companies)\n",
    "for company in companylist:\n",
    "    company.ShowCompany()"
   ]
  }
 ],
 "metadata": {
  "kernelspec": {
   "display_name": "Python 3 (ipykernel)",
   "language": "python",
   "name": "python3"
  },
  "language_info": {
   "codemirror_mode": {
    "name": "ipython",
    "version": 3
   },
   "file_extension": ".py",
   "mimetype": "text/x-python",
   "name": "python",
   "nbconvert_exporter": "python",
   "pygments_lexer": "ipython3",
   "version": "3.8.6"
  }
 },
 "nbformat": 4,
 "nbformat_minor": 5
}
