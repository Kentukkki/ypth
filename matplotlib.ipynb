{
 "cells": [
  {
   "cell_type": "code",
   "execution_count": 1,
   "id": "1f400b67",
   "metadata": {},
   "outputs": [],
   "source": [
    "import matplotlib.pyplot as plt\n",
    "import tkinter as tk\n",
    "from tkinter import *\n",
    "import numpy as np\n",
    "from matplotlib.figure import Figure\n",
    "from matplotlib.backends.backend_tkagg import (FigureCanvasTkAgg, NavigationToolbar2Tk)"
   ]
  },
  {
   "cell_type": "code",
   "execution_count": 2,
   "id": "c332d54b",
   "metadata": {},
   "outputs": [
    {
     "data": {
      "text/plain": [
       "''"
      ]
     },
     "execution_count": 2,
     "metadata": {},
     "output_type": "execute_result"
    }
   ],
   "source": [
    "win = tk.Tk()\n",
    "win.title('Тестовая прога')\n",
    "win.geometry('640x480')\n",
    "win.resizable(width=True, height=True)"
   ]
  },
  {
   "cell_type": "code",
   "execution_count": 3,
   "id": "b54cd731",
   "metadata": {},
   "outputs": [],
   "source": [
    "mainmenu = Menu(win) \n",
    "win.config(menu=mainmenu, bg='black',)"
   ]
  },
  {
   "cell_type": "code",
   "execution_count": 4,
   "id": "6ab41848",
   "metadata": {},
   "outputs": [],
   "source": [
    "num1 = tk.IntVar()\n",
    "num2 = tk.IntVar()"
   ]
  },
  {
   "cell_type": "code",
   "execution_count": 5,
   "id": "87f8c6ed",
   "metadata": {},
   "outputs": [],
   "source": [
    "def sum_menu():\n",
    "    clear_frame()\n",
    "    text = tk.Label(frame, bg='black', fg='white',text='Введите числа(сложить)', font=('ARIAL',10),)\n",
    "    button = tk.Button(frame, command = sum, bg='grey20', fg='white',text='Сложить', font=('ARIAL',15),)\n",
    "    ng1 = tk.Entry(frame, bg='grey30', fg='white', textvariable=num1)\n",
    "    ng2 = tk.Entry(frame, bg='grey30', fg='white', textvariable=num2)\n",
    "    \n",
    "    ng1.grid(row=1, column=1)\n",
    "    ng2.grid(row=1, column=3)\n",
    "    text.grid(row=1, column=2)\n",
    "    button.grid(row=2, column=2)\n",
    "    button.bind(\"<Enter>\", func=lambda e: button.config(\n",
    "        background='grey40',))\n",
    "    button.bind(\"<Leave>\", func=lambda e: button.config(\n",
    "        background='grey20'))\n",
    "    answer = tk.Label(frame,bg='black', fg='white', font=('ARIAL',15),) \n",
    "    answer.grid(row=3, column=2)"
   ]
  },
  {
   "cell_type": "code",
   "execution_count": 6,
   "id": "c9f7fdfb",
   "metadata": {},
   "outputs": [],
   "source": [
    "def sum():\n",
    "        clear_frame()\n",
    "        sum_menu()\n",
    "        n1 = num1.get()\n",
    "        n2 = num2.get()\n",
    "        summary = n1 + n2 \n",
    "        answer = tk.Label(frame,bg='black', fg='white', font=('ARIAL',15),) \n",
    "        answer.grid(row=3, column=2)   \n",
    "        answer[\"text\"] = summary"
   ]
  },
  {
   "cell_type": "code",
   "execution_count": 7,
   "id": "b5e3819e",
   "metadata": {},
   "outputs": [],
   "source": [
    "def dif_menu():\n",
    "    clear_frame()\n",
    "    text = tk.Label(frame,bg='black', fg='white', text='Введите числа(вычесть)', font=('ARIAL',10),)\n",
    "    button = tk.Button(frame, command = dif, bg='grey20', fg='white', text='Вычесть', font=('ARIAL',15),)\n",
    "    ng1 = tk.Entry(frame, bg='grey30', fg='white', textvariable=num1)\n",
    "    ng2 = tk.Entry(frame, bg='grey30', fg='white', textvariable=num2)\n",
    "    \n",
    "    ng1.grid(row=1, column=1)\n",
    "    ng2.grid(row=1, column=3)\n",
    "    text.grid(row=1, column=2)\n",
    "    button.grid(row=2, column=2)\n",
    "    button.bind(\"<Enter>\", func=lambda e: button.config(\n",
    "        background='grey40',))\n",
    "    button.bind(\"<Leave>\", func=lambda e: button.config(\n",
    "        background='grey20'))"
   ]
  },
  {
   "cell_type": "code",
   "execution_count": 8,
   "id": "095fe56b",
   "metadata": {},
   "outputs": [],
   "source": [
    "def dif():\n",
    "    clear_frame()\n",
    "    dif_menu()\n",
    "    n1 = num1.get()\n",
    "    n2 = num2.get()\n",
    "    differ = n1 - n2\n",
    "    answer = tk.Label(frame,bg='black', fg='white', font=('ARIAL',15),) \n",
    "    answer.grid(row=3, column=2)   \n",
    "    answer[\"text\"] = differ"
   ]
  },
  {
   "cell_type": "code",
   "execution_count": 9,
   "id": "70528ed0",
   "metadata": {},
   "outputs": [],
   "source": [
    "def mult_menu():\n",
    "    clear_frame()\n",
    "    text = tk.Label(frame,bg='black', fg='white', text='Введите числа(умножить)', font=('ARIAL',10),)\n",
    "    button = tk.Button(frame, command = mult, bg='grey20', fg='white', text='Умножить', font=('ARIAL',15),)\n",
    "    ng1 = tk.Entry(frame, bg='grey30', fg='white', textvariable=num1)\n",
    "    ng2 = tk.Entry(frame, bg='grey30', fg='white', textvariable=num2)\n",
    "    \n",
    "    ng1.grid(row=1, column=1)\n",
    "    ng2.grid(row=1, column=3)\n",
    "    text.grid(row=1, column=2)\n",
    "    button.grid(row=2, column=2)\n",
    "    button.bind(\"<Enter>\", func=lambda e: button.config(\n",
    "        background='grey40',))\n",
    "    button.bind(\"<Leave>\", func=lambda e: button.config(\n",
    "        background='grey20'))"
   ]
  },
  {
   "cell_type": "code",
   "execution_count": 10,
   "id": "f8627112",
   "metadata": {},
   "outputs": [],
   "source": [
    "def mult():\n",
    "    clear_frame()\n",
    "    mult_menu()\n",
    "    n1 = num1.get()\n",
    "    n2 = num2.get()\n",
    "    multy = n1 * n2\n",
    "    answer = tk.Label(frame,bg='black', fg='white', font=('ARIAL',15),) \n",
    "    answer.grid(row=3, column=2)   \n",
    "    answer[\"text\"] = multy"
   ]
  },
  {
   "cell_type": "code",
   "execution_count": 11,
   "id": "7bed9960",
   "metadata": {},
   "outputs": [],
   "source": [
    "def share_menu():\n",
    "    clear_frame()\n",
    "    text = tk.Label(frame,bg='black', fg='white', text='Введите числа(разделить)', font=('ARIAL',10),)\n",
    "    button = tk.Button(frame, command = share, bg='grey20', fg='white', text='Разделить', font=('ARIAL',15),)\n",
    "    ng1 = tk.Entry(frame, bg='grey30', fg='white', textvariable=num1)\n",
    "    ng2 = tk.Entry(frame, bg='grey30', fg='white', textvariable=num2)\n",
    "    \n",
    "    ng1.grid(row=1, column=1)\n",
    "    ng2.grid(row=1, column=3)\n",
    "    text.grid(row=1, column=2)\n",
    "    button.grid(row=2, column=2)\n",
    "    button.bind(\"<Enter>\", func=lambda e: button.config(\n",
    "        background='grey40',))\n",
    "    button.bind(\"<Leave>\", func=lambda e: button.config(\n",
    "        background='grey20'))"
   ]
  },
  {
   "cell_type": "code",
   "execution_count": 12,
   "id": "dfb1434a",
   "metadata": {},
   "outputs": [],
   "source": [
    "def share():\n",
    "    clear_frame()\n",
    "    share_menu()\n",
    "    n1 = num1.get()\n",
    "    n2 = num2.get()\n",
    "    shareit = n1 / n2\n",
    "    answer = tk.Label(frame,bg='black', fg='white', font=('ARIAL',15),) \n",
    "    answer.grid(row=3, column=2)   \n",
    "    answer[\"text\"] = shareit"
   ]
  },
  {
   "cell_type": "code",
   "execution_count": 13,
   "id": "498cf875",
   "metadata": {},
   "outputs": [],
   "source": [
    "def buildgraf():\n",
    "    clear_frame()\n",
    "    graf1()\n",
    "    figure = Figure(figsize=(5, 4), dpi=100)\n",
    "    plt = figure.add_subplot(1, 1, 1)\n",
    "    n = int(nE.get())\n",
    "    x = np.linspace(-100, 100, 50)\n",
    "    y = [i**n for i in x]\n",
    "    plt.grid()\n",
    "    plt.plot(x, y)\n",
    "    canvas = FigureCanvasTkAgg(figure, frame)\n",
    "    \n",
    "    canvas.get_tk_widget().pack()"
   ]
  },
  {
   "cell_type": "code",
   "execution_count": 14,
   "id": "7b3a82af",
   "metadata": {},
   "outputs": [],
   "source": [
    "def graf1():\n",
    "    text = Label(frame,bg='grey',fg='white',text='Введите число n')\n",
    "    nE = Entry(frame,bg='grey40', fg='white')\n",
    "    button = Button(frame, bg='grey20',fg='white', text='Построить', command=buildgraf)\n",
    "    text.pack()\n",
    "    nE.pack()\n",
    "    button.pack()\n",
    "    button.bind(\"<Enter>\", func=lambda e: button.config(\n",
    "    background='grey40',))\n",
    "    button.bind(\"<Leave>\", func=lambda e: button.config(\n",
    "    background='grey20'))\n",
    "    button.bind('<Return>',buildgraf)"
   ]
  },
  {
   "cell_type": "code",
   "execution_count": 15,
   "id": "ff32c087",
   "metadata": {},
   "outputs": [],
   "source": [
    "def clear_frame():\n",
    "    for widgets in frame.winfo_children():\n",
    "        widgets.destroy()"
   ]
  },
  {
   "cell_type": "code",
   "execution_count": 16,
   "id": "e1740fd0",
   "metadata": {},
   "outputs": [],
   "source": [
    "mathmenu = Menu(mainmenu, tearoff=0)\n",
    "mathmenu.add_command(label=\"Сложение\", command=sum_menu,)\n",
    "mathmenu.add_command(label=\"Вычитание\", command=dif_menu)\n",
    "mathmenu.add_command(label=\"Умножение\", command=mult_menu)\n",
    "mathmenu.add_command(label=\"Деление\", command = share_menu)\n"
   ]
  },
  {
   "cell_type": "code",
   "execution_count": 17,
   "id": "2e7479b7",
   "metadata": {},
   "outputs": [],
   "source": [
    "grafmenu = Menu(mainmenu, tearoff=0)\n",
    "grafmenu.add_command(label=\"y=x^n\", command=graf1)"
   ]
  },
  {
   "cell_type": "code",
   "execution_count": 18,
   "id": "24539110",
   "metadata": {},
   "outputs": [],
   "source": [
    "mainmenu.add_cascade(label=\"Математические опрерации\", menu=mathmenu,)\n",
    "mainmenu.add_cascade(label=\"Построение графиков\", menu=grafmenu,)"
   ]
  },
  {
   "cell_type": "code",
   "execution_count": 19,
   "id": "541076af",
   "metadata": {},
   "outputs": [],
   "source": [
    "frame = Frame(\n",
    "   win, #Обязательный параметр, который указывает окно для размещения Frame.\n",
    "   padx = 10, #Задаём отступ по горизонтали.\n",
    "   pady = 10, #Задаём отступ по вертикали.\n",
    "   bg = 'black',\n",
    ")\n"
   ]
  },
  {
   "cell_type": "code",
   "execution_count": 20,
   "id": "109d6349",
   "metadata": {},
   "outputs": [],
   "source": [
    "frame.pack(expand=True)"
   ]
  },
  {
   "cell_type": "code",
   "execution_count": 21,
   "id": "93c9f040",
   "metadata": {},
   "outputs": [],
   "source": [
    "win.mainloop()"
   ]
  }
 ],
 "metadata": {
  "kernelspec": {
   "display_name": "Python 3 (ipykernel)",
   "language": "python",
   "name": "python3"
  },
  "language_info": {
   "codemirror_mode": {
    "name": "ipython",
    "version": 3
   },
   "file_extension": ".py",
   "mimetype": "text/x-python",
   "name": "python",
   "nbconvert_exporter": "python",
   "pygments_lexer": "ipython3",
   "version": "3.8.6"
  }
 },
 "nbformat": 4,
 "nbformat_minor": 5
}
