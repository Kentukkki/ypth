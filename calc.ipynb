{
 "cells": [
  {
   "cell_type": "markdown",
   "id": "a5287ebe",
   "metadata": {},
   "source": [
    "Подключаем библиотеку tkinter"
   ]
  },
  {
   "cell_type": "code",
   "execution_count": 1,
   "id": "e06c1cc4",
   "metadata": {},
   "outputs": [],
   "source": [
    "import tkinter as tk\n",
    "from tkinter import *"
   ]
  },
  {
   "cell_type": "markdown",
   "id": "cce04fab",
   "metadata": {},
   "source": [
    "Создаем окно"
   ]
  },
  {
   "cell_type": "code",
   "execution_count": 2,
   "id": "d2858f7f",
   "metadata": {},
   "outputs": [
    {
     "data": {
      "text/plain": [
       "''"
      ]
     },
     "execution_count": 2,
     "metadata": {},
     "output_type": "execute_result"
    }
   ],
   "source": [
    "window = Tk() #Создаём окно приложения.\n",
    "window.title(\"Какой-то калькулятор\") #Добавляем название приложения.\n",
    "window.geometry('600x500+10+10')#Указываем размеры окна"
   ]
  },
  {
   "cell_type": "markdown",
   "id": "9dea77b7",
   "metadata": {},
   "source": [
    "размещаем фрейм внутри окна для расположения элементов"
   ]
  },
  {
   "cell_type": "code",
   "execution_count": 3,
   "id": "c301254a",
   "metadata": {},
   "outputs": [],
   "source": [
    "frame = Frame(\n",
    "   window, #Обязательный параметр, который указывает окно для размещения Frame.\n",
    "   padx = 10, #Задаём отступ по горизонтали.\n",
    "   pady = 10, #Задаём отступ по вертикали.\n",
    "   \n",
    ")"
   ]
  },
  {
   "cell_type": "markdown",
   "id": "88de87a0",
   "metadata": {},
   "source": [
    "Не забываем позиционировать виджет в окне. Здесь используется метод pack. С помощью свойства expand=True указываем, что Frame заполняет весь контейнер, созданный для него"
   ]
  },
  {
   "cell_type": "code",
   "execution_count": 4,
   "id": "7968c047",
   "metadata": {},
   "outputs": [],
   "source": [
    "frame.pack(expand=True)"
   ]
  },
  {
   "cell_type": "code",
   "execution_count": 5,
   "id": "e08c3604",
   "metadata": {},
   "outputs": [],
   "source": [
    "number_one_lb = Label(frame,text=\"Число 1\", font = (\"Arial\", 20),)# создаем подпись к первому textbox\n",
    "number_one_lb.grid(row=1, column=0) #указываем расположение элемента\n",
    "number_one_tb = Entry(frame) # создаем первый textbox\n",
    "number_one_tb.grid(row=2, column=0) # аналогично размещаем"
   ]
  },
  {
   "cell_type": "code",
   "execution_count": 6,
   "id": "dff09195",
   "metadata": {},
   "outputs": [],
   "source": [
    "number_two_lb = Label(frame,text=\"Число 2\",font = (\"Arial\", 20),)# создаем подпись к второму textbox\n",
    "number_two_lb.grid(row=1, column=3) #указываем расположение элемента\n",
    "number_two_tb = Entry(frame) # создаем второй textbox\n",
    "number_two_tb.grid(row=2, column=3) # аналогично размещаем\n"
   ]
  },
  {
   "cell_type": "markdown",
   "id": "984add71",
   "metadata": {},
   "source": [
    "Создадим функцию для кнопки чтобы посчитать сумму 2 числел введеных в textbox"
   ]
  },
  {
   "cell_type": "code",
   "execution_count": 7,
   "id": "54597756",
   "metadata": {},
   "outputs": [],
   "source": [
    "def sum_number(num1,num2):\n",
    "    sumary = int(num1) + int(num2)\n",
    "    result_text = \"Сумма\", num1 ,\"и\", num2, \"Равна\" , sumary\n",
    "    result_lb = Label(frame,text=result_text)# создаем подпись к второму textbox\n",
    "    result_lb.grid(row=5, column=1 , columnspan=3) #указываем расположение элемента"
   ]
  },
  {
   "cell_type": "code",
   "execution_count": 8,
   "id": "0e06298a",
   "metadata": {},
   "outputs": [],
   "source": [
    "def nosum_number(num1,num2):\n",
    "    notsumary = int(num1) - int(num2)\n",
    "    result_text = \"Вычитание\", num1 ,\"и\", num2, \"Равна\" , notsumary\n",
    "    result_lb = Label(frame,text=result_text)# создаем подпись к второму textbox\n",
    "    result_lb.grid(row=5, column=1 , columnspan=3) #указываем расположение элемента"
   ]
  },
  {
   "cell_type": "code",
   "execution_count": 9,
   "id": "07d35bd0",
   "metadata": {},
   "outputs": [],
   "source": [
    "bts = Button(\n",
    "   frame,\n",
    "   text='Сложить', #Надпись на кнопке.\n",
    "   command= lambda: sum_number(number_one_tb.get(),number_two_tb.get())\n",
    ")\n",
    "bts.grid(row=3, column=1, columnspan=4)"
   ]
  },
  {
   "cell_type": "code",
   "execution_count": 10,
   "id": "deccd617",
   "metadata": {},
   "outputs": [],
   "source": [
    "btnns = Button(\n",
    "   frame,\n",
    "   text='Вычесть', #Надпись на кнопке.\n",
    "   command= lambda: nosum_number(number_one_tb.get(),number_two_tb.get())\n",
    ")\n",
    "btnns.grid(row=3, column=4, columnspan=4)"
   ]
  },
  {
   "cell_type": "code",
   "execution_count": null,
   "id": "83ad190e",
   "metadata": {},
   "outputs": [],
   "source": [
    "window.mainloop()"
   ]
  }
 ],
 "metadata": {
  "kernelspec": {
   "display_name": "Python 3 (ipykernel)",
   "language": "python",
   "name": "python3"
  },
  "language_info": {
   "codemirror_mode": {
    "name": "ipython",
    "version": 3
   },
   "file_extension": ".py",
   "mimetype": "text/x-python",
   "name": "python",
   "nbconvert_exporter": "python",
   "pygments_lexer": "ipython3",
   "version": "3.8.6"
  }
 },
 "nbformat": 4,
 "nbformat_minor": 5
}
