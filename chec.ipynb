{
 "cells": [
  {
   "cell_type": "markdown",
   "id": "0a95596b",
   "metadata": {},
   "source": [
    "Подключаем библиотеку tkinter"
   ]
  },
  {
   "cell_type": "code",
   "execution_count": 10,
   "id": "8d8a3988",
   "metadata": {},
   "outputs": [],
   "source": [
    "import tkinter as tk\n",
    "from tkinter import *"
   ]
  },
  {
   "cell_type": "code",
   "execution_count": 11,
   "id": "9c8c8449",
   "metadata": {},
   "outputs": [],
   "source": [
    "def sum_number(num1,num2):\n",
    "    sumary = int(num1) + int(num2)\n",
    "    result_text = \"Сумма\", num1 ,\"и\", num2, \"Равна\" , sumary\n",
    "    result_lb = Label(frame,text=result_text)# создаем подпись к второму textbox\n",
    "    result_lb.grid(row=4, column=1 , columnspan=3) #указываем расположение элемента"
   ]
  },
  {
   "cell_type": "code",
   "execution_count": 12,
   "id": "28cddf09",
   "metadata": {},
   "outputs": [],
   "source": [
    "def sum_number():\n",
    "    clear_frame()\n",
    "    number_one_lb = Label(frame,text=\"Число 1\")# создаем подпись к первому textbox\n",
    "    number_one_lb.grid(row=1, column=1) #указываем расположение элемента\n",
    "    number_one_tb = Entry(frame) # создаем первый textbox\n",
    "    number_one_tb.grid(row=1, column=2) # аналогично размещаем\n",
    "    number_two_lb = Label(frame,text=\"Число 2\")# создаем подпись к второму textbox\n",
    "    number_two_lb.grid(row=2, column=1) #указываем расположение элемента\n",
    "    number_two_tb = Entry(frame) # создаем второй textbox\n",
    "    number_two_tb.grid(row=2, column=2) # аналогично размещаем\n",
    "    btn = Button(\n",
    "       frame,\n",
    "       text='Посчитать', #Надпись на кнопке.\n",
    "       command= lambda: sum_number(number_one_tb.get(),number_two_tb.get())\n",
    "    )\n",
    "    btn.grid(row=3, column=1, columnspan=3)"
   ]
  },
  {
   "cell_type": "code",
   "execution_count": 13,
   "id": "615fff4c",
   "metadata": {},
   "outputs": [],
   "source": [
    "def clear_frame():\n",
    "    for widgets in frame.winfo_children():\n",
    "        widgets.destroy()"
   ]
  },
  {
   "cell_type": "markdown",
   "id": "6e5e1270",
   "metadata": {},
   "source": [
    "Создаем окно"
   ]
  },
  {
   "cell_type": "code",
   "execution_count": 14,
   "id": "bc6c6540",
   "metadata": {},
   "outputs": [
    {
     "data": {
      "text/plain": [
       "''"
      ]
     },
     "execution_count": 14,
     "metadata": {},
     "output_type": "execute_result"
    }
   ],
   "source": [
    "window = Tk() #Создаём окно приложения.\n",
    "window.title(\"Построение параболы\") #Добавляем название приложения.\n",
    "window.geometry('600x500+10+10')#Указываем размеры окна"
   ]
  },
  {
   "cell_type": "markdown",
   "id": "99795f56",
   "metadata": {},
   "source": [
    "Создаем меню"
   ]
  },
  {
   "cell_type": "code",
   "execution_count": 15,
   "id": "fd8e2927",
   "metadata": {},
   "outputs": [],
   "source": [
    "mainmenu = Menu(window) \n",
    "window.config(menu=mainmenu)\n",
    "\n",
    "grafmenu = Menu(mainmenu, tearoff=0)\n",
    "grafmenu.add_command(label=\"Сложение\",command=sum_number)\n",
    "grafmenu.add_command(label=\"Вычитание\")\n",
    "\n",
    "mainmenu.add_cascade(label=\"Математические опрерации\",\n",
    "                     menu=grafmenu)"
   ]
  },
  {
   "cell_type": "markdown",
   "id": "f0a3399d",
   "metadata": {},
   "source": [
    "размещаем фрейм внутри окна для расположения элементов"
   ]
  },
  {
   "cell_type": "code",
   "execution_count": 16,
   "id": "f886f2a1",
   "metadata": {},
   "outputs": [],
   "source": [
    "frame = Frame(\n",
    "   window, #Обязательный параметр, который указывает окно для размещения Frame.\n",
    "   padx = 10, #Задаём отступ по горизонтали.\n",
    "   pady = 10 #Задаём отступ по вертикали.\n",
    ")"
   ]
  },
  {
   "cell_type": "markdown",
   "id": "4d1c13e0",
   "metadata": {},
   "source": [
    "Не забываем позиционировать виджет в окне. Здесь используется метод pack. С помощью свойства expand=True указываем, что Frame заполняет весь контейнер, созданный для него"
   ]
  },
  {
   "cell_type": "code",
   "execution_count": 17,
   "id": "8050b40f",
   "metadata": {},
   "outputs": [],
   "source": [
    "frame.pack(expand=True)"
   ]
  },
  {
   "cell_type": "markdown",
   "id": "98820906",
   "metadata": {},
   "source": [
    "Создадим функцию для кнопки чтобы посчитать сумму 2 числел введеных в textbox"
   ]
  },
  {
   "cell_type": "code",
   "execution_count": 18,
   "id": "488df4b0",
   "metadata": {},
   "outputs": [
    {
     "name": "stderr",
     "output_type": "stream",
     "text": [
      "Exception in Tkinter callback\n",
      "Traceback (most recent call last):\n",
      "  File \"c:\\Users\\преподаватель\\AppData\\Local\\Programs\\Python\\Python38\\lib\\tkinter\\__init__.py\", line 1883, in __call__\n",
      "    return self.func(*args)\n",
      "  File \"C:\\Users\\преподаватель\\AppData\\Local\\Temp\\ipykernel_12380\\81615146.py\", line 14, in <lambda>\n",
      "    command= lambda: sum_number(number_one_tb.get(),number_two_tb.get())\n",
      "TypeError: sum_number() takes 0 positional arguments but 2 were given\n",
      "Exception in Tkinter callback\n",
      "Traceback (most recent call last):\n",
      "  File \"c:\\Users\\преподаватель\\AppData\\Local\\Programs\\Python\\Python38\\lib\\tkinter\\__init__.py\", line 1883, in __call__\n",
      "    return self.func(*args)\n",
      "  File \"C:\\Users\\преподаватель\\AppData\\Local\\Temp\\ipykernel_12380\\81615146.py\", line 14, in <lambda>\n",
      "    command= lambda: sum_number(number_one_tb.get(),number_two_tb.get())\n",
      "TypeError: sum_number() takes 0 positional arguments but 2 were given\n",
      "Exception in Tkinter callback\n",
      "Traceback (most recent call last):\n",
      "  File \"c:\\Users\\преподаватель\\AppData\\Local\\Programs\\Python\\Python38\\lib\\tkinter\\__init__.py\", line 1883, in __call__\n",
      "    return self.func(*args)\n",
      "  File \"C:\\Users\\преподаватель\\AppData\\Local\\Temp\\ipykernel_12380\\81615146.py\", line 14, in <lambda>\n",
      "    command= lambda: sum_number(number_one_tb.get(),number_two_tb.get())\n",
      "TypeError: sum_number() takes 0 positional arguments but 2 were given\n",
      "Exception in Tkinter callback\n",
      "Traceback (most recent call last):\n",
      "  File \"c:\\Users\\преподаватель\\AppData\\Local\\Programs\\Python\\Python38\\lib\\tkinter\\__init__.py\", line 1883, in __call__\n",
      "    return self.func(*args)\n",
      "  File \"C:\\Users\\преподаватель\\AppData\\Local\\Temp\\ipykernel_12380\\81615146.py\", line 14, in <lambda>\n",
      "    command= lambda: sum_number(number_one_tb.get(),number_two_tb.get())\n",
      "TypeError: sum_number() takes 0 positional arguments but 2 were given\n",
      "Exception in Tkinter callback\n",
      "Traceback (most recent call last):\n",
      "  File \"c:\\Users\\преподаватель\\AppData\\Local\\Programs\\Python\\Python38\\lib\\tkinter\\__init__.py\", line 1883, in __call__\n",
      "    return self.func(*args)\n",
      "  File \"C:\\Users\\преподаватель\\AppData\\Local\\Temp\\ipykernel_12380\\81615146.py\", line 14, in <lambda>\n",
      "    command= lambda: sum_number(number_one_tb.get(),number_two_tb.get())\n",
      "TypeError: sum_number() takes 0 positional arguments but 2 were given\n",
      "Exception in Tkinter callback\n",
      "Traceback (most recent call last):\n",
      "  File \"c:\\Users\\преподаватель\\AppData\\Local\\Programs\\Python\\Python38\\lib\\tkinter\\__init__.py\", line 1883, in __call__\n",
      "    return self.func(*args)\n",
      "  File \"C:\\Users\\преподаватель\\AppData\\Local\\Temp\\ipykernel_12380\\81615146.py\", line 14, in <lambda>\n",
      "    command= lambda: sum_number(number_one_tb.get(),number_two_tb.get())\n",
      "TypeError: sum_number() takes 0 positional arguments but 2 were given\n",
      "Exception in Tkinter callback\n",
      "Traceback (most recent call last):\n",
      "  File \"c:\\Users\\преподаватель\\AppData\\Local\\Programs\\Python\\Python38\\lib\\tkinter\\__init__.py\", line 1883, in __call__\n",
      "    return self.func(*args)\n",
      "  File \"C:\\Users\\преподаватель\\AppData\\Local\\Temp\\ipykernel_12380\\81615146.py\", line 14, in <lambda>\n",
      "    command= lambda: sum_number(number_one_tb.get(),number_two_tb.get())\n",
      "TypeError: sum_number() takes 0 positional arguments but 2 were given\n",
      "Exception in Tkinter callback\n",
      "Traceback (most recent call last):\n",
      "  File \"c:\\Users\\преподаватель\\AppData\\Local\\Programs\\Python\\Python38\\lib\\tkinter\\__init__.py\", line 1883, in __call__\n",
      "    return self.func(*args)\n",
      "  File \"C:\\Users\\преподаватель\\AppData\\Local\\Temp\\ipykernel_12380\\81615146.py\", line 14, in <lambda>\n",
      "    command= lambda: sum_number(number_one_tb.get(),number_two_tb.get())\n",
      "TypeError: sum_number() takes 0 positional arguments but 2 were given\n",
      "Exception in Tkinter callback\n",
      "Traceback (most recent call last):\n",
      "  File \"c:\\Users\\преподаватель\\AppData\\Local\\Programs\\Python\\Python38\\lib\\tkinter\\__init__.py\", line 1883, in __call__\n",
      "    return self.func(*args)\n",
      "  File \"C:\\Users\\преподаватель\\AppData\\Local\\Temp\\ipykernel_12380\\81615146.py\", line 14, in <lambda>\n",
      "    command= lambda: sum_number(number_one_tb.get(),number_two_tb.get())\n",
      "TypeError: sum_number() takes 0 positional arguments but 2 were given\n"
     ]
    }
   ],
   "source": [
    "window.mainloop()"
   ]
  }
 ],
 "metadata": {
  "kernelspec": {
   "display_name": "Python 3.8.6 64-bit",
   "language": "python",
   "name": "python3"
  },
  "language_info": {
   "codemirror_mode": {
    "name": "ipython",
    "version": 3
   },
   "file_extension": ".py",
   "mimetype": "text/x-python",
   "name": "python",
   "nbconvert_exporter": "python",
   "pygments_lexer": "ipython3",
   "version": "3.8.6"
  },
  "vscode": {
   "interpreter": {
    "hash": "32f759388aade17145eda9a80eb4499b5d4f0b57be4fae03e64b36935bd96ca5"
   }
  }
 },
 "nbformat": 4,
 "nbformat_minor": 5
}
