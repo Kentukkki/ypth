{
 "cells": [
  {
   "cell_type": "code",
   "execution_count": 1,
   "id": "e40cc78f",
   "metadata": {},
   "outputs": [],
   "source": [
    "from operator import attrgetter"
   ]
  },
  {
   "cell_type": "code",
   "execution_count": 2,
   "id": "6d13785c",
   "metadata": {},
   "outputs": [],
   "source": [
    "class klass(object):\n",
    "    def __init__(self,num,spell,boys,girls):\n",
    "        self.__num    = num\n",
    "        self.__spell  = spell\n",
    "        self.__boys   = boys\n",
    "        self.__girls  = girls\n",
    "        self.amount   = self.amount()\n",
    "        self.percent  = self.bofa()\n",
    "            \n",
    "    def num(self):\n",
    "        return self.__num\n",
    "    def num(self, n):\n",
    "        if isinstance(n, int):\n",
    "            self:__num = n\n",
    "        else:\n",
    "            raise ValueError\n",
    "            \n",
    "    def spell(self):\n",
    "        return self.__spell\n",
    "    def spell(self, SP):\n",
    "        if isinstance(SP, str):\n",
    "            self.__spell = FN\n",
    "        else:\n",
    "            raise ValueError\n",
    "    \n",
    "    def boys(self):\n",
    "        return self.__boys\n",
    "    def boys(self, b):\n",
    "        if isinstance(b, int):\n",
    "            self:__boys = b\n",
    "        else:\n",
    "            raise ValueError\n",
    "            \n",
    "    def girls(self):\n",
    "        return self.__girls\n",
    "    def girls(self, g):\n",
    "        if isinstance(g, int):\n",
    "            self:__girls = g\n",
    "        else:\n",
    "            raise ValueError\n",
    "            \n",
    "    def amount(self):\n",
    "        return self.__boys+self.__girls\n",
    "    \n",
    "    def bofa(self):\n",
    "        return (self.__boys / self.amount)*100\n",
    "    def showklass(self):\n",
    "        print(\"Класс: \",self.__num,\"-\",self.__spell,\" Кол-во учащихся: \", self.amount,\"Процент пацанов: \", self.percent,\"%\")"
   ]
  },
  {
   "cell_type": "code",
   "execution_count": 3,
   "id": "b725c236",
   "metadata": {},
   "outputs": [],
   "source": [
    "def get_klass_list(klasses):\n",
    "    if isinstance(klasses,list):\n",
    "        return sorted(klasses, key=lambda x: x.percent,reverse=True)\n",
    "    else:\n",
    "        raise ValueError"
   ]
  },
  {
   "cell_type": "code",
   "execution_count": 4,
   "id": "dd8d20ea",
   "metadata": {},
   "outputs": [],
   "source": [
    "klasses =[\n",
    "            klass(1,'A',13,7),\n",
    "            klass(2,'D',10,10),\n",
    "            klass(3,'B',7,13),\n",
    "          ] "
   ]
  },
  {
   "cell_type": "code",
   "execution_count": 5,
   "id": "586aff31",
   "metadata": {},
   "outputs": [
    {
     "name": "stdout",
     "output_type": "stream",
     "text": [
      "Класс:  1 - A  Кол-во учащихся:  20 Процент пацанов:  65.0 %\n",
      "Класс:  2 - D  Кол-во учащихся:  20 Процент пацанов:  50.0 %\n",
      "Класс:  3 - B  Кол-во учащихся:  20 Процент пацанов:  35.0 %\n"
     ]
    }
   ],
   "source": [
    "klasslist = get_klass_list(klasses)\n",
    "for klass in klasslist:\n",
    "    klass.showklass()"
   ]
  },
  {
   "cell_type": "code",
   "execution_count": null,
   "id": "16bb503c",
   "metadata": {},
   "outputs": [],
   "source": []
  }
 ],
 "metadata": {
  "kernelspec": {
   "display_name": "Python 3 (ipykernel)",
   "language": "python",
   "name": "python3"
  },
  "language_info": {
   "codemirror_mode": {
    "name": "ipython",
    "version": 3
   },
   "file_extension": ".py",
   "mimetype": "text/x-python",
   "name": "python",
   "nbconvert_exporter": "python",
   "pygments_lexer": "ipython3",
   "version": "3.8.6"
  }
 },
 "nbformat": 4,
 "nbformat_minor": 5
}
