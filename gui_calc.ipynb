{
 "cells": [
  {
   "cell_type": "markdown",
   "id": "ab8f8742",
   "metadata": {},
   "source": [
    "Подключаем библиотеку tkinter"
   ]
  },
  {
   "cell_type": "code",
   "execution_count": 1,
   "id": "224b8d90",
   "metadata": {},
   "outputs": [],
   "source": [
    "import tkinter as tk\n",
    "from tkinter import *"
   ]
  },
  {
   "cell_type": "markdown",
   "id": "caeb2b0b",
   "metadata": {},
   "source": [
    "Создаем окно"
   ]
  },
  {
   "cell_type": "code",
   "execution_count": 2,
   "id": "a798f051",
   "metadata": {},
   "outputs": [
    {
     "data": {
      "text/plain": [
       "''"
      ]
     },
     "execution_count": 2,
     "metadata": {},
     "output_type": "execute_result"
    }
   ],
   "source": [
    "window = Tk() #Создаём окно приложения.\n",
    "window.title(\"Построение параболы\") #Добавляем название приложения.\n",
    "window.geometry('600x500+10+10')#Указываем размеры окна"
   ]
  },
  {
   "cell_type": "markdown",
   "id": "4a4813ef",
   "metadata": {},
   "source": [
    "размещаем фрейм внутри окна для расположения элементов"
   ]
  },
  {
   "cell_type": "code",
   "execution_count": 3,
   "id": "1351f471",
   "metadata": {},
   "outputs": [],
   "source": [
    "frame = Frame(\n",
    "   window, #Обязательный параметр, который указывает окно для размещения Frame.\n",
    "   padx = 10, #Задаём отступ по горизонтали.\n",
    "   pady = 10 #Задаём отступ по вертикали.\n",
    ")"
   ]
  },
  {
   "cell_type": "markdown",
   "id": "a1250df5",
   "metadata": {},
   "source": [
    "Не забываем позиционировать виджет в окне. Здесь используется метод pack. С помощью свойства expand=True указываем, что Frame заполняет весь контейнер, созданный для него"
   ]
  },
  {
   "cell_type": "code",
   "execution_count": 4,
   "id": "936c0b5b",
   "metadata": {},
   "outputs": [],
   "source": [
    "frame.pack(expand=True)"
   ]
  },
  {
   "cell_type": "code",
   "execution_count": 5,
   "id": "6c0ffbd4",
   "metadata": {},
   "outputs": [],
   "source": [
    "number_one_lb = Label(frame,text=\"Число 1\")# создаем подпись к первому textbox\n",
    "number_one_lb.grid(row=1, column=1) #указываем расположение элемента\n",
    "number_one_tb = Entry(frame) # создаем первый textbox\n",
    "number_one_tb.grid(row=1, column=2) # аналогично размещаем"
   ]
  },
  {
   "cell_type": "code",
   "execution_count": 6,
   "id": "ae66d4e1",
   "metadata": {},
   "outputs": [],
   "source": [
    "number_two_lb = Label(frame,text=\"Число 2\")# создаем подпись к второму textbox\n",
    "number_two_lb.grid(row=2, column=1) #указываем расположение элемента\n",
    "number_two_tb = Entry(frame) # создаем второй textbox\n",
    "number_two_tb.grid(row=2, column=2) # аналогично размещаем\n"
   ]
  },
  {
   "cell_type": "markdown",
   "id": "e64e7838",
   "metadata": {},
   "source": [
    "Создадим функцию для кнопки чтобы посчитать сумму 2 числел введеных в textbox"
   ]
  },
  {
   "cell_type": "code",
   "execution_count": 7,
   "id": "efafd0a3",
   "metadata": {},
   "outputs": [],
   "source": [
    "def sum_number(num1,num2):\n",
    "    sumary = int(num1) + int(num2)\n",
    "    result_text = \"Сумма\", num1 ,\"и\", num2, \"Равна\" , sumary\n",
    "    result_lb = Label(frame,text=result_text)# создаем подпись к второму textbox\n",
    "    result_lb.grid(row=4, column=1 , columnspan=3) #указываем расположение элемента"
   ]
  },
  {
   "cell_type": "code",
   "execution_count": 8,
   "id": "74e841d4",
   "metadata": {},
   "outputs": [],
   "source": [
    "btn = Button(\n",
    "   frame,\n",
    "   text='Посчитать', #Надпись на кнопке.\n",
    "   command= lambda: sum_number(number_one_tb.get(),number_two_tb.get())\n",
    ")\n",
    "btn.grid(row=3, column=1, columnspan=3)"
   ]
  },
  {
   "cell_type": "code",
   "execution_count": 9,
   "id": "6509763f",
   "metadata": {},
   "outputs": [],
   "source": [
    "window.mainloop()"
   ]
  }
 ],
 "metadata": {
  "kernelspec": {
   "display_name": "Python 3 (ipykernel)",
   "language": "python",
   "name": "python3"
  },
  "language_info": {
   "codemirror_mode": {
    "name": "ipython",
    "version": 3
   },
   "file_extension": ".py",
   "mimetype": "text/x-python",
   "name": "python",
   "nbconvert_exporter": "python",
   "pygments_lexer": "ipython3",
   "version": "3.10.0"
  }
 },
 "nbformat": 4,
 "nbformat_minor": 5