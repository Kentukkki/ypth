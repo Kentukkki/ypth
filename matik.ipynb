{
 "cells": [
  {
   "cell_type": "code",
   "execution_count": 3,
   "id": "59a23c73",
   "metadata": {},
   "outputs": [
    {
     "ename": "ImportError",
     "evalue": "cannot import name 'figure' from 'matplotlib.figure' (c:\\users\\преподаватель\\desktop\\pyth\\417\\lib\\site-packages\\matplotlib\\figure.py)",
     "output_type": "error",
     "traceback": [
      "\u001b[1;31m---------------------------------------------------------------------------\u001b[0m",
      "\u001b[1;31mImportError\u001b[0m                               Traceback (most recent call last)",
      "Cell \u001b[1;32mIn [3], line 5\u001b[0m\n\u001b[0;32m      3\u001b[0m \u001b[38;5;28;01mfrom\u001b[39;00m \u001b[38;5;21;01mtkinter\u001b[39;00m \u001b[38;5;28;01mimport\u001b[39;00m \u001b[38;5;241m*\u001b[39m\n\u001b[0;32m      4\u001b[0m \u001b[38;5;28;01mimport\u001b[39;00m \u001b[38;5;21;01mnumpy\u001b[39;00m \u001b[38;5;28;01mas\u001b[39;00m \u001b[38;5;21;01mnp\u001b[39;00m\n\u001b[1;32m----> 5\u001b[0m \u001b[38;5;28;01mfrom\u001b[39;00m \u001b[38;5;21;01mmatplotlib\u001b[39;00m\u001b[38;5;21;01m.\u001b[39;00m\u001b[38;5;21;01mfigure\u001b[39;00m \u001b[38;5;28;01mimport\u001b[39;00m figure\n\u001b[0;32m      6\u001b[0m \u001b[38;5;28;01mfrom\u001b[39;00m \u001b[38;5;21;01mmatplotlib\u001b[39;00m\u001b[38;5;21;01m.\u001b[39;00m\u001b[38;5;21;01mbackends\u001b[39;00m\u001b[38;5;21;01m.\u001b[39;00m\u001b[38;5;21;01mbackend\u001b[39;00m\u001b[38;5;21;01m.\u001b[39;00m\u001b[38;5;21;01mtkagg\u001b[39;00m \u001b[38;5;28;01mimport\u001b[39;00m (FigureCanvasTkAgg, NavigationToolbar2Tk)\n",
      "\u001b[1;31mImportError\u001b[0m: cannot import name 'figure' from 'matplotlib.figure' (c:\\users\\преподаватель\\desktop\\pyth\\417\\lib\\site-packages\\matplotlib\\figure.py)"
     ]
    },
    {
     "ename": "ImportError",
     "evalue": "cannot import name 'figure' from 'matplotlib.figure' (c:\\users\\преподаватель\\desktop\\pyth\\417\\lib\\site-packages\\matplotlib\\figure.py)",
     "output_type": "error",
     "traceback": [
      "\u001b[1;31m---------------------------------------------------------------------------\u001b[0m",
      "\u001b[1;31mImportError\u001b[0m                               Traceback (most recent call last)",
      "Cell \u001b[1;32mIn [3], line 5\u001b[0m\n\u001b[0;32m      3\u001b[0m \u001b[38;5;28;01mfrom\u001b[39;00m \u001b[38;5;21;01mtkinter\u001b[39;00m \u001b[38;5;28;01mimport\u001b[39;00m \u001b[38;5;241m*\u001b[39m\n\u001b[0;32m      4\u001b[0m \u001b[38;5;28;01mimport\u001b[39;00m \u001b[38;5;21;01mnumpy\u001b[39;00m \u001b[38;5;28;01mas\u001b[39;00m \u001b[38;5;21;01mnp\u001b[39;00m\n\u001b[1;32m----> 5\u001b[0m \u001b[38;5;28;01mfrom\u001b[39;00m \u001b[38;5;21;01mmatplotlib\u001b[39;00m\u001b[38;5;21;01m.\u001b[39;00m\u001b[38;5;21;01mfigure\u001b[39;00m \u001b[38;5;28;01mimport\u001b[39;00m figure\n\u001b[0;32m      6\u001b[0m \u001b[38;5;28;01mfrom\u001b[39;00m \u001b[38;5;21;01mmatplotlib\u001b[39;00m\u001b[38;5;21;01m.\u001b[39;00m\u001b[38;5;21;01mbackends\u001b[39;00m\u001b[38;5;21;01m.\u001b[39;00m\u001b[38;5;21;01mbackend\u001b[39;00m\u001b[38;5;21;01m.\u001b[39;00m\u001b[38;5;21;01mtkagg\u001b[39;00m \u001b[38;5;28;01mimport\u001b[39;00m (FigureCanvasTkAgg, NavigationToolbar2Tk)\n",
      "\u001b[1;31mImportError\u001b[0m: cannot import name 'figure' from 'matplotlib.figure' (c:\\users\\преподаватель\\desktop\\pyth\\417\\lib\\site-packages\\matplotlib\\figure.py)"
     ]
    }
   ],
   "source": [
    "import matplotlib.pyplot as plt\n",
    "import tkinter as tk\n",
    "from tkinter import *\n",
    "import numpy as np\n",
    "from matplotlib.figure import figure\n",
    "from matplotlib.backends.backend.tkagg import (FigureCanvasTkAgg, NavigationToolbar2Tk)"
   ]
  },
  {
   "cell_type": "code",
   "execution_count": null,
   "id": "ac5c09fe",
   "metadata": {},
   "outputs": [],
   "source": [
    "win = tk.Tk()\n",
    "win.title('Тестовая прога по графикам')\n",
    "win.geometry('800x900')\n",
    "win.resizable(width=False, height=False)"
   ]
  },
  {
   "cell_type": "code",
   "execution_count": null,
   "id": "e8f25f67",
   "metadata": {},
   "outputs": [],
   "source": [
    "win.config(bg='grey',)"
   ]
  },
  {
   "cell_type": "code",
   "execution_count": null,
   "id": "3200e211",
   "metadata": {},
   "outputs": [],
   "source": [
    "def buildgraf():\n",
    "    plt.title('y=x^n')\n",
    "    plt.xlabel('X')\n",
    "    plt.ylabel('Y')\n",
    "    x = np.linspace(0, 10, 50)\n",
    "    n = int(nE.get())\n",
    "    y = [i**n for i in x]\n",
    "    plt.grid()             \n",
    "    plt.plot(x, y)"
   ]
  },
  {
   "cell_type": "code",
   "execution_count": null,
   "id": "774be4d2",
   "metadata": {},
   "outputs": [],
   "source": [
    "text = Label(bg='grey',fg='white',text='Введите число n')\n",
    "nE = Entry(bg='grey40', fg='white')\n",
    "button = Button(bg='grey20',fg='white', text='Построить', command=buildgraf)"
   ]
  },
  {
   "cell_type": "code",
   "execution_count": null,
   "id": "0fb18b20",
   "metadata": {},
   "outputs": [],
   "source": [
    "text.pack()\n",
    "nE.pack()\n",
    "button.pack()\n",
    "button.bind(\"<Enter>\", func=lambda e: button.config(\n",
    "background='grey40',))\n",
    "button.bind(\"<Leave>\", func=lambda e: button.config(\n",
    "background='grey20'))"
   ]
  },
  {
   "cell_type": "code",
   "execution_count": 2,
   "id": "179d2926",
   "metadata": {},
   "outputs": [
    {
     "ename": "NameError",
     "evalue": "name 'win' is not defined",
     "output_type": "error",
     "traceback": [
      "\u001b[1;31m---------------------------------------------------------------------------\u001b[0m",
      "\u001b[1;31mNameError\u001b[0m                                 Traceback (most recent call last)",
      "Cell \u001b[1;32mIn [2], line 1\u001b[0m\n\u001b[1;32m----> 1\u001b[0m \u001b[43mwin\u001b[49m\u001b[38;5;241m.\u001b[39mmainloop()\n",
      "\u001b[1;31mNameError\u001b[0m: name 'win' is not defined"
     ]
    },
    {
     "ename": "NameError",
     "evalue": "name 'win' is not defined",
     "output_type": "error",
     "traceback": [
      "\u001b[1;31m---------------------------------------------------------------------------\u001b[0m",
      "\u001b[1;31mNameError\u001b[0m                                 Traceback (most recent call last)",
      "Cell \u001b[1;32mIn [2], line 1\u001b[0m\n\u001b[1;32m----> 1\u001b[0m \u001b[43mwin\u001b[49m\u001b[38;5;241m.\u001b[39mmainloop()\n",
      "\u001b[1;31mNameError\u001b[0m: name 'win' is not defined"
     ]
    }
   ],
   "source": [
    "win.mainloop()"
   ]
  },
  {
   "cell_type": "code",
   "execution_count": null,
   "id": "1647b2c7",
   "metadata": {},
   "outputs": [],
   "source": []
  },
  {
   "cell_type": "code",
   "execution_count": null,
   "id": "0b9b3c1c",
   "metadata": {},
   "outputs": [],
   "source": []
  },
  {
   "cell_type": "code",
   "execution_count": null,
   "id": "7fb1fdc6",
   "metadata": {},
   "outputs": [],
   "source": []
  }
 ],
 "metadata": {
  "kernelspec": {
   "display_name": "Python 3 (ipykernel)",
   "language": "python",
   "name": "python3"
  },
  "language_info": {
   "codemirror_mode": {
    "name": "ipython",
    "version": 3
   },
   "file_extension": ".py",
   "mimetype": "text/x-python",
   "name": "python",
   "nbconvert_exporter": "python",
   "pygments_lexer": "ipython3",
   "version": "3.8.6"
  },
  "vscode": {
   "interpreter": {
    "hash": "32f759388aade17145eda9a80eb4499b5d4f0b57be4fae03e64b36935bd96ca5"
   }
  }
 },
 "nbformat": 4,
 "nbformat_minor": 5
}
