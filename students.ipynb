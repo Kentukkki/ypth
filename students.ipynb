{
 "cells": [
  {
   "cell_type": "code",
   "execution_count": 112,
   "id": "00efef93",
   "metadata": {},
   "outputs": [],
   "source": [
    "from operator import attrgetter"
   ]
  },
  {
   "cell_type": "code",
   "execution_count": 113,
   "id": "30348c75",
   "metadata": {},
   "outputs": [],
   "source": [
    "class student(object):\n",
    "    \n",
    "    def __init__(self,FirstName,LastName,Achievement):\n",
    "        self.__FirstName   = FirstName\n",
    "        self.__LastName    = LastName\n",
    "        self.__Achievement = Achievement\n",
    "        self.score = self.AverageScore()\n",
    "       \n",
    "    @property\n",
    "    def FirstName(self):\n",
    "        return self.__FirstName\n",
    "    @FirstName.setter\n",
    "    def FirstName(self, FN):\n",
    "        if isinstance(FN, str):\n",
    "            self.__FirstName = FN\n",
    "        else:\n",
    "            raise ValueError\n",
    "    @property\n",
    "    def LastName(self):\n",
    "        return self.__LastName\n",
    "    @LastName.setter\n",
    "    def LastName(self, LN):\n",
    "        if isinstance(LN, str):\n",
    "            self.__LastName = LN\n",
    "        else:\n",
    "            raise ValueError\n",
    "    @property\n",
    "    def Achievement(self):\n",
    "        return self.__Achievement\n",
    "    @Achievement.setter\n",
    "    def Achievement(self, Ach):\n",
    "        if isinstance(Ach, dict):\n",
    "            self.__Achievement = Ach\n",
    "        else:\n",
    "            raise ValueError\n",
    "    def AverageScore(self):\n",
    "        return sum(self.Achievement.values()) // len(self.Achievement)\n",
    "    def ShowStudent(self):\n",
    "        print(\"Фамилия:\",self.FirstName , \" Имя\",self.LastName ,\" Средний балл\", self.AverageScore())"
   ]
  },
  {
   "cell_type": "code",
   "execution_count": 118,
   "id": "bcb55669",
   "metadata": {},
   "outputs": [],
   "source": [
    "def get_student_list(students):\n",
    "    if isinstance(students,list):\n",
    "        return sorted(students, key=lambda x: x.score,reverse=True)\n",
    "    else:\n",
    "        raise ValueError"
   ]
  },
  {
   "cell_type": "code",
   "execution_count": 115,
   "id": "be3ad868",
   "metadata": {},
   "outputs": [],
   "source": [
    "students =[\n",
    "            student('Иван','Иванов',{'Математика':5,'Русский':4,'Информатика':4}),\n",
    "            student('Петр','Петров',{'Математика':5,'Русский':4,'Информатика':5}),\n",
    "            student('Мария','Сидорова',{'Математика':5,'Русский':5,'Информатика':5}),\n",
    "          ] "
   ]
  },
  {
   "cell_type": "code",
   "execution_count": 119,
   "id": "abbab7c7",
   "metadata": {},
   "outputs": [],
   "source": [
    "studentlist = get_student_list(students)"
   ]
  },
  {
   "cell_type": "code",
   "execution_count": 120,
   "id": "87ab4cc8",
   "metadata": {},
   "outputs": [
    {
     "name": "stdout",
     "output_type": "stream",
     "text": [
      "Фамилия: Мария  Имя Сидорова  Средний балл 5\n",
      "Фамилия: Иван  Имя Иванов  Средний балл 4\n",
      "Фамилия: Петр  Имя Петров  Средний балл 4\n"
     ]
    }
   ],
   "source": [
    "for student in studentlist:\n",
    "    student.ShowStudent()"
   ]
  }
 ],
 "metadata": {
  "kernelspec": {
   "display_name": "Python 3 (ipykernel)",
   "language": "python",
   "name": "python3"
  },
  "language_info": {
   "codemirror_mode": {
    "name": "ipython",
    "version": 3
   },
   "file_extension": ".py",
   "mimetype": "text/x-python",
   "name": "python",
   "nbconvert_exporter": "python",
   "pygments_lexer": "ipython3",
   "version": "3.8.6"
  }
 },
 "nbformat": 4,
 "nbformat_minor": 5
}
