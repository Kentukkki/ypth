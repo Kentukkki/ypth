{
 "cells": [
  {
   "cell_type": "code",
   "execution_count": 17,
   "id": "dffe2732",
   "metadata": {},
   "outputs": [
    {
     "name": "stdout",
     "output_type": "stream",
     "text": [
      "Введите кол-во элементов массива: 13\n"
     ]
    }
   ],
   "source": [
    "n = int(input('Введите кол-во элементов массива: '))\n",
    "A = [0]*n\n",
    "n1 = int(n/2)\n",
    "A1 = [0]*n1"
   ]
  },
  {
   "cell_type": "code",
   "execution_count": 9,
   "id": "8f113346",
   "metadata": {},
   "outputs": [
    {
     "name": "stdout",
     "output_type": "stream",
     "text": [
      "Введите элемент массива: 1\n",
      "Введите элемент массива: 2\n",
      "Введите элемент массива: 3\n",
      "Введите элемент массива: 4\n",
      "Введите элемент массива: 5\n",
      "Введите элемент массива: 6\n",
      "Введите элемент массива: 7\n",
      "Введите элемент массива: 8\n",
      "Введите элемент массива: 9\n",
      "Введите элемент массива: 10\n",
      "Введите элемент массива: 11\n",
      "Введите элемент массива: 12\n",
      "Введите элемент массива: 13\n"
     ]
    }
   ],
   "source": [
    "for i in range(n):\n",
    "    A[i] = int(input('Введите элемент массива: '))"
   ]
  },
  {
   "cell_type": "code",
   "execution_count": 15,
   "id": "1e96c440",
   "metadata": {},
   "outputs": [
    {
     "name": "stdout",
     "output_type": "stream",
     "text": [
      "[1, 2, 3, 4, 5, 6, 7, 8, 9, 10, 11, 12, 13]\n"
     ]
    }
   ],
   "source": [
    "print(A)"
   ]
  },
  {
   "cell_type": "code",
   "execution_count": null,
   "id": "d156745e",
   "metadata": {},
   "outputs": [],
   "source": [
    "for i in range(n/2):\n",
    "    A1[i]\n",
    "    "
   ]
  }
 ],
 "metadata": {
  "kernelspec": {
   "display_name": "Python 3 (ipykernel)",
   "language": "python",
   "name": "python3"
  },
  "language_info": {
   "codemirror_mode": {
    "name": "ipython",
    "version": 3
   },
   "file_extension": ".py",
   "mimetype": "text/x-python",
   "name": "python",
   "nbconvert_exporter": "python",
   "pygments_lexer": "ipython3",
   "version": "3.8.6"
  }
 },
 "nbformat": 4,
 "nbformat_minor": 5
}
