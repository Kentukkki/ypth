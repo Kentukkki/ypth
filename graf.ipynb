{
 "cells": [
  {
   "cell_type": "code",
   "execution_count": 1,
   "id": "59a23c73",
   "metadata": {},
   "outputs": [],
   "source": [
    "import matplotlib.pyplot as plt\n",
    "import tkinter as tk\n",
    "from tkinter import *\n",
    "import numpy as np\n",
    "from matplotlib.figure import Figure\n",
    "from matplotlib.backends.backend_tkagg import (FigureCanvasTkAgg, NavigationToolbar2Tk)"
   ]
  },
  {
   "cell_type": "code",
   "execution_count": 2,
   "id": "ac5c09fe",
   "metadata": {},
   "outputs": [],
   "source": [
    "win = tk.Tk()\n",
    "win.title('Тестовая прога по графикам')\n",
    "win.geometry('600x500')\n",
    "win.resizable(width=False, height=False)\n",
    "win.config(bg='grey')"
   ]
  },
  {
   "cell_type": "code",
   "execution_count": 3,
   "id": "3200e211",
   "metadata": {},
   "outputs": [],
   "source": [
    "def buildgraf():\n",
    "    clear_frame()\n",
    "    figure = Figure(figsize=(5, 4), dpi=100)\n",
    "    plt = figure.add_subplot(1, 1, 1)\n",
    "    n = int(nE.get())\n",
    "    x = np.linspace(-100, 100, 50)\n",
    "    y = [i**n for i in x]\n",
    "    plt.grid()\n",
    "    plt.plot(x, y)\n",
    "    canvas = FigureCanvasTkAgg(figure, frame)\n",
    "    \n",
    "    canvas.get_tk_widget().pack()"
   ]
  },
  {
   "cell_type": "code",
   "execution_count": 4,
   "id": "774be4d2",
   "metadata": {},
   "outputs": [],
   "source": [
    "text = Label(bg='grey',fg='white',text='Введите число n')\n",
    "nE = Entry(bg='grey40', fg='white')\n",
    "button = Button(bg='grey20',fg='white', text='Построить', command=buildgraf)"
   ]
  },
  {
   "cell_type": "code",
   "execution_count": 5,
   "id": "0fb18b20",
   "metadata": {},
   "outputs": [
    {
     "data": {
      "text/plain": [
       "'1772814674816buildgraf'"
      ]
     },
     "execution_count": 5,
     "metadata": {},
     "output_type": "execute_result"
    },
    {
     "data": {
      "text/plain": [
       "'1772814674816buildgraf'"
      ]
     },
     "execution_count": 5,
     "metadata": {},
     "output_type": "execute_result"
    }
   ],
   "source": [
    "text.pack()\n",
    "nE.pack()\n",
    "button.pack()\n",
    "button.bind(\"<Enter>\", func=lambda e: button.config(\n",
    "background='grey40',))\n",
    "button.bind(\"<Leave>\", func=lambda e: button.config(\n",
    "background='grey20'))\n",
    "button.bind('<Return>',buildgraf)"
   ]
  },
  {
   "cell_type": "code",
   "execution_count": 6,
   "id": "91d1edc3",
   "metadata": {},
   "outputs": [],
   "source": [
    "def clear_frame():\n",
    "    for widgets in frame.winfo_children():\n",
    "        widgets.destroy()"
   ]
  },
  {
   "cell_type": "code",
   "execution_count": 7,
   "id": "25b96a71",
   "metadata": {},
   "outputs": [],
   "source": [
    "frame = Frame(\n",
    "   win, #Обязательный параметр, который указывает окно для размещения Frame.\n",
    "   padx = 0,\n",
    "   pady = 0,\n",
    "   bg = 'black',\n",
    ")\n",
    "frame.pack(expand=True)"
   ]
  },
  {
   "cell_type": "code",
   "execution_count": 8,
   "id": "179d2926",
   "metadata": {},
   "outputs": [],
   "source": [
    "win.mainloop()"
   ]
  }
 ],
 "metadata": {
  "kernelspec": {
   "display_name": "Python 3 (ipykernel)",
   "language": "python",
   "name": "python3"
  },
  "language_info": {
   "codemirror_mode": {
    "name": "ipython",
    "version": 3
   },
   "file_extension": ".py",
   "mimetype": "text/x-python",
   "name": "python",
   "nbconvert_exporter": "python",
   "pygments_lexer": "ipython3",
   "version": "3.8.6"
  },
  "vscode": {
   "interpreter": {
    "hash": "32f759388aade17145eda9a80eb4499b5d4f0b57be4fae03e64b36935bd96ca5"
   }
  }
 },
 "nbformat": 4,
 "nbformat_minor": 5
}
